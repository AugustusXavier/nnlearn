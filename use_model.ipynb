{
 "cells": [
  {
   "cell_type": "code",
   "execution_count": 108,
   "metadata": {},
   "outputs": [],
   "source": [
    "import torch\n",
    "import torch.nn as nn\n",
    "import torch.optim as optim\n",
    "import torchvision.models as models\n",
    "from torchvision import datasets\n",
    "import torchvision.transforms as transforms\n",
    "from torch.utils.data import DataLoader\n"
   ]
  },
  {
   "cell_type": "code",
   "execution_count": 109,
   "metadata": {},
   "outputs": [
    {
     "data": {
      "text/plain": [
       "<torch._C.Generator at 0x204a8ea2fd0>"
      ]
     },
     "execution_count": 109,
     "metadata": {},
     "output_type": "execute_result"
    }
   ],
   "source": [
    "torch.manual_seed(42)"
   ]
  },
  {
   "cell_type": "code",
   "execution_count": 110,
   "metadata": {},
   "outputs": [
    {
     "name": "stdout",
     "output_type": "stream",
     "text": [
      "LeNet(\n",
      "  (conv1): Conv2d(3, 6, kernel_size=(5, 5), stride=(1, 1))\n",
      "  (conv2): Conv2d(6, 16, kernel_size=(5, 5), stride=(1, 1))\n",
      "  (fc1): Linear(in_features=44944, out_features=120, bias=True)\n",
      "  (fc2): Linear(in_features=120, out_features=84, bias=True)\n",
      "  (fc3): Linear(in_features=84, out_features=2, bias=True)\n",
      "  (pool): MaxPool2d(kernel_size=2, stride=2, padding=0, dilation=1, ceil_mode=False)\n",
      ")\n"
     ]
    }
   ],
   "source": [
    "from Catdog_CNN_checkpoint import LeNet\n",
    "model=LeNet()\n",
    "model.load_state_dict(torch.load('model.pth'))\n",
    "for param in model.parameters():\n",
    "    param.requires_grad = True\n",
    "print(model)"
   ]
  },
  {
   "cell_type": "code",
   "execution_count": 111,
   "metadata": {},
   "outputs": [],
   "source": [
    "train_datadir = r'data\\train'\n",
    "test_datadir  = r'data\\test'\n",
    "\n",
    "train_transforms = transforms.Compose([\n",
    "    transforms.Resize([224, 224]),  # 将输入图片resize成统一尺寸\n",
    "    transforms.ToTensor(),         \n",
    "])\n",
    "\n",
    "test_transforms = transforms.Compose([\n",
    "    transforms.Resize([224, 224]),  \n",
    "    transforms.ToTensor(),          \n",
    "])\n",
    "\n",
    "train_data = datasets.ImageFolder(train_datadir,transform=train_transforms)\n",
    "\n",
    "test_data  = datasets.ImageFolder(test_datadir,transform=test_transforms)\n",
    "\n",
    "train_loader = torch.utils.data.DataLoader(train_data,\n",
    "                                          batch_size=100,\n",
    "                                          shuffle=True,\n",
    "                                          num_workers=4)\n",
    "test_loader  = torch.utils.data.DataLoader(test_data,\n",
    "                                          batch_size=100,\n",
    "                                          shuffle=True,\n",
    "                                          num_workers=4)\n"
   ]
  },
  {
   "cell_type": "code",
   "execution_count": 112,
   "metadata": {},
   "outputs": [],
   "source": [
    "device = \"cuda\" if torch.cuda.is_available() else \"cpu\"\n",
    "criterion = nn.CrossEntropyLoss()\n",
    "optimizer = torch.optim.SGD(model.parameters(), lr=0.11)\n"
   ]
  },
  {
   "cell_type": "code",
   "execution_count": 113,
   "metadata": {},
   "outputs": [
    {
     "name": "stdout",
     "output_type": "stream",
     "text": [
      "Epoch 1/20, Loss: 0.7213496005535126, Accuracy: 0.498\n",
      "Epoch 2/20, Loss: 0.68920117020607, Accuracy: 0.5354\n",
      "Epoch 3/20, Loss: 0.6746345734596253, Accuracy: 0.5882\n",
      "Epoch 4/20, Loss: 0.6600509119033814, Accuracy: 0.614\n",
      "Epoch 5/20, Loss: 0.6650229179859162, Accuracy: 0.5826\n",
      "Epoch 6/20, Loss: 0.6608418476581573, Accuracy: 0.6028\n",
      "Epoch 7/20, Loss: 0.634433982372284, Accuracy: 0.6446\n",
      "Epoch 8/20, Loss: 0.6270496928691864, Accuracy: 0.6378\n",
      "Epoch 9/20, Loss: 0.5977966761589051, Accuracy: 0.676\n",
      "Epoch 10/20, Loss: 0.5352217084169388, Accuracy: 0.725\n",
      "Epoch 11/20, Loss: 0.4780133980512619, Accuracy: 0.759\n",
      "Epoch 12/20, Loss: 0.3988454842567444, Accuracy: 0.8094\n",
      "Epoch 13/20, Loss: 0.35795292884111407, Accuracy: 0.8354\n",
      "Epoch 14/20, Loss: 0.25635646656155586, Accuracy: 0.8874\n",
      "Epoch 15/20, Loss: 0.16097065106034278, Accuracy: 0.9326\n",
      "Epoch 16/20, Loss: 0.17535769443958998, Accuracy: 0.9268\n",
      "Epoch 17/20, Loss: 0.15666129875928164, Accuracy: 0.9396\n",
      "Epoch 18/20, Loss: 0.05164331179112196, Accuracy: 0.9742\n",
      "Epoch 19/20, Loss: 0.0107464212551713, Accuracy: 0.9874\n",
      "Epoch 20/20, Loss: 0.005451368448557332, Accuracy: 0.9884\n"
     ]
    }
   ],
   "source": [
    "num_epochs = 20\n",
    "\n",
    "# 进行迁移学习训练过程\n",
    "device = torch.device(\"cuda\" if torch.cuda.is_available() else \"cpu\")\n",
    "model.to(device)\n",
    "for epoch in range(num_epochs):\n",
    "    running_loss = 0.0\n",
    "    correct_predictions = 0\n",
    "    \n",
    "    for images, labels in train_loader:\n",
    "        images, labels = images.to(device), labels.to(device)\n",
    "        \n",
    "        optimizer.zero_grad()\n",
    "        \n",
    "        outputs = model(images)\n",
    "        loss = criterion(outputs, labels)\n",
    "        \n",
    "        loss.backward()\n",
    "        optimizer.step()\n",
    "        \n",
    "        running_loss += loss.item()\n",
    "\n",
    "        # 计算预测结果与真实标签相符的数量\n",
    "        _, predicted_labels = torch.max(outputs.data, 1)\n",
    "        correct_predictions += (predicted_labels == labels).sum().item()\n",
    "    \n",
    "    epoch_loss = running_loss / len(train_loader)\n",
    "    accuracy = correct_predictions / (len(train_loader) * train_loader.batch_size)\n",
    "    \n",
    "    print(f\"Epoch {epoch+1}/{num_epochs}, Loss: {epoch_loss}, Accuracy: {accuracy}\")\n"
   ]
  }
 ],
 "metadata": {
  "kernelspec": {
   "display_name": "TwT",
   "language": "python",
   "name": "python3"
  },
  "language_info": {
   "codemirror_mode": {
    "name": "ipython",
    "version": 3
   },
   "file_extension": ".py",
   "mimetype": "text/x-python",
   "name": "python",
   "nbconvert_exporter": "python",
   "pygments_lexer": "ipython3",
   "version": "3.11.4"
  },
  "orig_nbformat": 4
 },
 "nbformat": 4,
 "nbformat_minor": 2
}
